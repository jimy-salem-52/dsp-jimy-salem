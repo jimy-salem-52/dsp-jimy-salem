{
 "cells": [
  {
   "cell_type": "code",
   "execution_count": 1,
   "metadata": {},
   "outputs": [],
   "source": [
    "import pandas as pd\n",
    "import sys\n",
    "sys.path.append(r'C:\\Users\\SADEK COMPUTER\\Desktop\\Epita\\01 - Semester 2\\Data Science Production\\Github Assignment\\dsp-jimy-salem\\house_prices')\n",
    "from train import build_model_refactored\n",
    "from inference import make_prediction_refactored"
   ]
  },
  {
   "cell_type": "markdown",
   "metadata": {},
   "source": [
    "# Model Building"
   ]
  },
  {
   "cell_type": "code",
   "execution_count": 2,
   "metadata": {},
   "outputs": [
    {
     "name": "stdout",
     "output_type": "stream",
     "text": [
      "{'rmse': 0.2}\n"
     ]
    },
    {
     "name": "stderr",
     "output_type": "stream",
     "text": [
      "c:\\Users\\SADEK COMPUTER\\.conda\\envs\\ml\\lib\\site-packages\\sklearn\\preprocessing\\_encoders.py:972: FutureWarning: `sparse` was renamed to `sparse_output` in version 1.2 and will be removed in 1.4. `sparse_output` is ignored unless you leave `sparse` to its default value.\n",
      "  warnings.warn(\n"
     ]
    }
   ],
   "source": [
    "training_data_df = pd.read_csv(r'C:\\Users\\SADEK COMPUTER\\Desktop\\Epita\\01 - Semester 2\\Data Science Production\\Github Assignment\\dsp-jimy-salem\\Data - pw2\\train.csv.xls')\n",
    "\n",
    "model_performance_dict = {}\n",
    "\n",
    "try:\n",
    "    model_performance_dict = build_model_refactored(training_data_df)\n",
    "except Exception as e:\n",
    "    print(f\"An error occurred while executing build_model_refactored: {e}\")\n",
    "\n",
    "print(model_performance_dict)"
   ]
  },
  {
   "cell_type": "markdown",
   "metadata": {},
   "source": [
    "# Model Inference"
   ]
  },
  {
   "cell_type": "code",
   "execution_count": 3,
   "metadata": {},
   "outputs": [
    {
     "data": {
      "text/plain": [
       "array([188350.1717458 , 210449.72746717, 281556.7130024 , ...,\n",
       "       103036.87531272, 115766.83656585, 167442.46873459])"
      ]
     },
     "execution_count": 3,
     "metadata": {},
     "output_type": "execute_result"
    }
   ],
   "source": [
    "user_data_df = pd.read_csv(r'C:\\Users\\SADEK COMPUTER\\Desktop\\Epita\\01 - Semester 2\\Data Science Production\\Github Assignment\\dsp-jimy-salem\\Data - pw2\\test.csv.xls')\n",
    "data_test = user_data_df.copy()\n",
    "predictions = make_prediction_refactored (data_test)\n",
    "predictions"
   ]
  },
  {
   "cell_type": "code",
   "execution_count": null,
   "metadata": {},
   "outputs": [],
   "source": []
  }
 ],
 "metadata": {
  "kernelspec": {
   "display_name": "ml",
   "language": "python",
   "name": "python3"
  },
  "language_info": {
   "codemirror_mode": {
    "name": "ipython",
    "version": 3
   },
   "file_extension": ".py",
   "mimetype": "text/x-python",
   "name": "python",
   "nbconvert_exporter": "python",
   "pygments_lexer": "ipython3",
   "version": "3.9.18"
  }
 },
 "nbformat": 4,
 "nbformat_minor": 2
}
